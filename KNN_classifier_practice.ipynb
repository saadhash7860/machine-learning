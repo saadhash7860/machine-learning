{
 "cells": [
  {
   "cell_type": "code",
   "execution_count": 37,
   "id": "efafe5f0",
   "metadata": {},
   "outputs": [],
   "source": [
    "import pandas as pd\n",
    "import numpy as np\n",
    "import matplotlib.pyplot as plt\n"
   ]
  },
  {
   "cell_type": "code",
   "execution_count": 38,
   "id": "e6181e2c",
   "metadata": {},
   "outputs": [
    {
     "data": {
      "text/html": [
       "<div>\n",
       "<style scoped>\n",
       "    .dataframe tbody tr th:only-of-type {\n",
       "        vertical-align: middle;\n",
       "    }\n",
       "\n",
       "    .dataframe tbody tr th {\n",
       "        vertical-align: top;\n",
       "    }\n",
       "\n",
       "    .dataframe thead th {\n",
       "        text-align: right;\n",
       "    }\n",
       "</style>\n",
       "<table border=\"1\" class=\"dataframe\">\n",
       "  <thead>\n",
       "    <tr style=\"text-align: right;\">\n",
       "      <th></th>\n",
       "      <th>User ID</th>\n",
       "      <th>Gender</th>\n",
       "      <th>Age</th>\n",
       "      <th>EstimatedSalary</th>\n",
       "      <th>Purchased</th>\n",
       "    </tr>\n",
       "  </thead>\n",
       "  <tbody>\n",
       "    <tr>\n",
       "      <th>0</th>\n",
       "      <td>15624510</td>\n",
       "      <td>Male</td>\n",
       "      <td>19</td>\n",
       "      <td>19000</td>\n",
       "      <td>0</td>\n",
       "    </tr>\n",
       "    <tr>\n",
       "      <th>1</th>\n",
       "      <td>15810944</td>\n",
       "      <td>Male</td>\n",
       "      <td>35</td>\n",
       "      <td>20000</td>\n",
       "      <td>0</td>\n",
       "    </tr>\n",
       "    <tr>\n",
       "      <th>2</th>\n",
       "      <td>15668575</td>\n",
       "      <td>Female</td>\n",
       "      <td>26</td>\n",
       "      <td>43000</td>\n",
       "      <td>0</td>\n",
       "    </tr>\n",
       "    <tr>\n",
       "      <th>3</th>\n",
       "      <td>15603246</td>\n",
       "      <td>Female</td>\n",
       "      <td>27</td>\n",
       "      <td>57000</td>\n",
       "      <td>0</td>\n",
       "    </tr>\n",
       "    <tr>\n",
       "      <th>4</th>\n",
       "      <td>15804002</td>\n",
       "      <td>Male</td>\n",
       "      <td>19</td>\n",
       "      <td>76000</td>\n",
       "      <td>0</td>\n",
       "    </tr>\n",
       "    <tr>\n",
       "      <th>5</th>\n",
       "      <td>15728773</td>\n",
       "      <td>Male</td>\n",
       "      <td>27</td>\n",
       "      <td>58000</td>\n",
       "      <td>0</td>\n",
       "    </tr>\n",
       "    <tr>\n",
       "      <th>6</th>\n",
       "      <td>15598044</td>\n",
       "      <td>Female</td>\n",
       "      <td>27</td>\n",
       "      <td>84000</td>\n",
       "      <td>0</td>\n",
       "    </tr>\n",
       "    <tr>\n",
       "      <th>7</th>\n",
       "      <td>15694829</td>\n",
       "      <td>Female</td>\n",
       "      <td>32</td>\n",
       "      <td>150000</td>\n",
       "      <td>1</td>\n",
       "    </tr>\n",
       "    <tr>\n",
       "      <th>8</th>\n",
       "      <td>15600575</td>\n",
       "      <td>Male</td>\n",
       "      <td>25</td>\n",
       "      <td>33000</td>\n",
       "      <td>0</td>\n",
       "    </tr>\n",
       "    <tr>\n",
       "      <th>9</th>\n",
       "      <td>15727311</td>\n",
       "      <td>Female</td>\n",
       "      <td>35</td>\n",
       "      <td>65000</td>\n",
       "      <td>0</td>\n",
       "    </tr>\n",
       "  </tbody>\n",
       "</table>\n",
       "</div>"
      ],
      "text/plain": [
       "    User ID  Gender  Age  EstimatedSalary  Purchased\n",
       "0  15624510    Male   19            19000          0\n",
       "1  15810944    Male   35            20000          0\n",
       "2  15668575  Female   26            43000          0\n",
       "3  15603246  Female   27            57000          0\n",
       "4  15804002    Male   19            76000          0\n",
       "5  15728773    Male   27            58000          0\n",
       "6  15598044  Female   27            84000          0\n",
       "7  15694829  Female   32           150000          1\n",
       "8  15600575    Male   25            33000          0\n",
       "9  15727311  Female   35            65000          0"
      ]
     },
     "execution_count": 38,
     "metadata": {},
     "output_type": "execute_result"
    }
   ],
   "source": [
    "df = pd.read_csv(r\"C:\\Users\\sad\\Downloads\\Social_Network_Ads.csv\")\n",
    "df.head(10)"
   ]
  },
  {
   "cell_type": "code",
   "execution_count": 39,
   "id": "af4315fc",
   "metadata": {},
   "outputs": [
    {
     "data": {
      "text/plain": [
       "User ID            0\n",
       "Gender             0\n",
       "Age                0\n",
       "EstimatedSalary    0\n",
       "Purchased          0\n",
       "dtype: int64"
      ]
     },
     "execution_count": 39,
     "metadata": {},
     "output_type": "execute_result"
    }
   ],
   "source": [
    "df.isnull().sum()"
   ]
  },
  {
   "cell_type": "code",
   "execution_count": 40,
   "id": "8de97b9a",
   "metadata": {},
   "outputs": [
    {
     "data": {
      "text/plain": [
       "(400, 5)"
      ]
     },
     "execution_count": 40,
     "metadata": {},
     "output_type": "execute_result"
    }
   ],
   "source": [
    "df.shape"
   ]
  },
  {
   "cell_type": "code",
   "execution_count": 41,
   "id": "4376d4c6",
   "metadata": {},
   "outputs": [
    {
     "data": {
      "text/plain": [
       "<bound method DataFrame.info of       User ID  Gender  Age  EstimatedSalary  Purchased\n",
       "0    15624510    Male   19            19000          0\n",
       "1    15810944    Male   35            20000          0\n",
       "2    15668575  Female   26            43000          0\n",
       "3    15603246  Female   27            57000          0\n",
       "4    15804002    Male   19            76000          0\n",
       "..        ...     ...  ...              ...        ...\n",
       "395  15691863  Female   46            41000          1\n",
       "396  15706071    Male   51            23000          1\n",
       "397  15654296  Female   50            20000          1\n",
       "398  15755018    Male   36            33000          0\n",
       "399  15594041  Female   49            36000          1\n",
       "\n",
       "[400 rows x 5 columns]>"
      ]
     },
     "execution_count": 41,
     "metadata": {},
     "output_type": "execute_result"
    }
   ],
   "source": [
    "df.info"
   ]
  },
  {
   "cell_type": "code",
   "execution_count": 42,
   "id": "50891314",
   "metadata": {},
   "outputs": [
    {
     "data": {
      "text/html": [
       "<div>\n",
       "<style scoped>\n",
       "    .dataframe tbody tr th:only-of-type {\n",
       "        vertical-align: middle;\n",
       "    }\n",
       "\n",
       "    .dataframe tbody tr th {\n",
       "        vertical-align: top;\n",
       "    }\n",
       "\n",
       "    .dataframe thead th {\n",
       "        text-align: right;\n",
       "    }\n",
       "</style>\n",
       "<table border=\"1\" class=\"dataframe\">\n",
       "  <thead>\n",
       "    <tr style=\"text-align: right;\">\n",
       "      <th></th>\n",
       "      <th>User ID</th>\n",
       "      <th>Age</th>\n",
       "      <th>EstimatedSalary</th>\n",
       "      <th>Purchased</th>\n",
       "    </tr>\n",
       "  </thead>\n",
       "  <tbody>\n",
       "    <tr>\n",
       "      <th>count</th>\n",
       "      <td>4.000000e+02</td>\n",
       "      <td>400.000000</td>\n",
       "      <td>400.000000</td>\n",
       "      <td>400.000000</td>\n",
       "    </tr>\n",
       "    <tr>\n",
       "      <th>mean</th>\n",
       "      <td>1.569154e+07</td>\n",
       "      <td>37.655000</td>\n",
       "      <td>69742.500000</td>\n",
       "      <td>0.357500</td>\n",
       "    </tr>\n",
       "    <tr>\n",
       "      <th>std</th>\n",
       "      <td>7.165832e+04</td>\n",
       "      <td>10.482877</td>\n",
       "      <td>34096.960282</td>\n",
       "      <td>0.479864</td>\n",
       "    </tr>\n",
       "    <tr>\n",
       "      <th>min</th>\n",
       "      <td>1.556669e+07</td>\n",
       "      <td>18.000000</td>\n",
       "      <td>15000.000000</td>\n",
       "      <td>0.000000</td>\n",
       "    </tr>\n",
       "    <tr>\n",
       "      <th>25%</th>\n",
       "      <td>1.562676e+07</td>\n",
       "      <td>29.750000</td>\n",
       "      <td>43000.000000</td>\n",
       "      <td>0.000000</td>\n",
       "    </tr>\n",
       "    <tr>\n",
       "      <th>50%</th>\n",
       "      <td>1.569434e+07</td>\n",
       "      <td>37.000000</td>\n",
       "      <td>70000.000000</td>\n",
       "      <td>0.000000</td>\n",
       "    </tr>\n",
       "    <tr>\n",
       "      <th>75%</th>\n",
       "      <td>1.575036e+07</td>\n",
       "      <td>46.000000</td>\n",
       "      <td>88000.000000</td>\n",
       "      <td>1.000000</td>\n",
       "    </tr>\n",
       "    <tr>\n",
       "      <th>max</th>\n",
       "      <td>1.581524e+07</td>\n",
       "      <td>60.000000</td>\n",
       "      <td>150000.000000</td>\n",
       "      <td>1.000000</td>\n",
       "    </tr>\n",
       "  </tbody>\n",
       "</table>\n",
       "</div>"
      ],
      "text/plain": [
       "            User ID         Age  EstimatedSalary   Purchased\n",
       "count  4.000000e+02  400.000000       400.000000  400.000000\n",
       "mean   1.569154e+07   37.655000     69742.500000    0.357500\n",
       "std    7.165832e+04   10.482877     34096.960282    0.479864\n",
       "min    1.556669e+07   18.000000     15000.000000    0.000000\n",
       "25%    1.562676e+07   29.750000     43000.000000    0.000000\n",
       "50%    1.569434e+07   37.000000     70000.000000    0.000000\n",
       "75%    1.575036e+07   46.000000     88000.000000    1.000000\n",
       "max    1.581524e+07   60.000000    150000.000000    1.000000"
      ]
     },
     "execution_count": 42,
     "metadata": {},
     "output_type": "execute_result"
    }
   ],
   "source": [
    "df.describe()"
   ]
  },
  {
   "cell_type": "code",
   "execution_count": 43,
   "id": "70be2274",
   "metadata": {},
   "outputs": [
    {
     "data": {
      "text/html": [
       "<div>\n",
       "<style scoped>\n",
       "    .dataframe tbody tr th:only-of-type {\n",
       "        vertical-align: middle;\n",
       "    }\n",
       "\n",
       "    .dataframe tbody tr th {\n",
       "        vertical-align: top;\n",
       "    }\n",
       "\n",
       "    .dataframe thead th {\n",
       "        text-align: right;\n",
       "    }\n",
       "</style>\n",
       "<table border=\"1\" class=\"dataframe\">\n",
       "  <thead>\n",
       "    <tr style=\"text-align: right;\">\n",
       "      <th></th>\n",
       "      <th>Male</th>\n",
       "    </tr>\n",
       "  </thead>\n",
       "  <tbody>\n",
       "    <tr>\n",
       "      <th>0</th>\n",
       "      <td>1</td>\n",
       "    </tr>\n",
       "    <tr>\n",
       "      <th>1</th>\n",
       "      <td>1</td>\n",
       "    </tr>\n",
       "    <tr>\n",
       "      <th>2</th>\n",
       "      <td>0</td>\n",
       "    </tr>\n",
       "    <tr>\n",
       "      <th>3</th>\n",
       "      <td>0</td>\n",
       "    </tr>\n",
       "    <tr>\n",
       "      <th>4</th>\n",
       "      <td>1</td>\n",
       "    </tr>\n",
       "    <tr>\n",
       "      <th>...</th>\n",
       "      <td>...</td>\n",
       "    </tr>\n",
       "    <tr>\n",
       "      <th>395</th>\n",
       "      <td>0</td>\n",
       "    </tr>\n",
       "    <tr>\n",
       "      <th>396</th>\n",
       "      <td>1</td>\n",
       "    </tr>\n",
       "    <tr>\n",
       "      <th>397</th>\n",
       "      <td>0</td>\n",
       "    </tr>\n",
       "    <tr>\n",
       "      <th>398</th>\n",
       "      <td>1</td>\n",
       "    </tr>\n",
       "    <tr>\n",
       "      <th>399</th>\n",
       "      <td>0</td>\n",
       "    </tr>\n",
       "  </tbody>\n",
       "</table>\n",
       "<p>400 rows × 1 columns</p>\n",
       "</div>"
      ],
      "text/plain": [
       "     Male\n",
       "0       1\n",
       "1       1\n",
       "2       0\n",
       "3       0\n",
       "4       1\n",
       "..    ...\n",
       "395     0\n",
       "396     1\n",
       "397     0\n",
       "398     1\n",
       "399     0\n",
       "\n",
       "[400 rows x 1 columns]"
      ]
     },
     "execution_count": 43,
     "metadata": {},
     "output_type": "execute_result"
    }
   ],
   "source": [
    "dummies = pd.get_dummies(df[\"Gender\"],drop_first = True)\n",
    "dummies"
   ]
  },
  {
   "cell_type": "code",
   "execution_count": 44,
   "id": "336ff233",
   "metadata": {},
   "outputs": [
    {
     "data": {
      "text/html": [
       "<div>\n",
       "<style scoped>\n",
       "    .dataframe tbody tr th:only-of-type {\n",
       "        vertical-align: middle;\n",
       "    }\n",
       "\n",
       "    .dataframe tbody tr th {\n",
       "        vertical-align: top;\n",
       "    }\n",
       "\n",
       "    .dataframe thead th {\n",
       "        text-align: right;\n",
       "    }\n",
       "</style>\n",
       "<table border=\"1\" class=\"dataframe\">\n",
       "  <thead>\n",
       "    <tr style=\"text-align: right;\">\n",
       "      <th></th>\n",
       "      <th>Age</th>\n",
       "      <th>EstimatedSalary</th>\n",
       "      <th>Purchased</th>\n",
       "    </tr>\n",
       "  </thead>\n",
       "  <tbody>\n",
       "    <tr>\n",
       "      <th>0</th>\n",
       "      <td>19</td>\n",
       "      <td>19000</td>\n",
       "      <td>0</td>\n",
       "    </tr>\n",
       "    <tr>\n",
       "      <th>1</th>\n",
       "      <td>35</td>\n",
       "      <td>20000</td>\n",
       "      <td>0</td>\n",
       "    </tr>\n",
       "    <tr>\n",
       "      <th>2</th>\n",
       "      <td>26</td>\n",
       "      <td>43000</td>\n",
       "      <td>0</td>\n",
       "    </tr>\n",
       "    <tr>\n",
       "      <th>3</th>\n",
       "      <td>27</td>\n",
       "      <td>57000</td>\n",
       "      <td>0</td>\n",
       "    </tr>\n",
       "    <tr>\n",
       "      <th>4</th>\n",
       "      <td>19</td>\n",
       "      <td>76000</td>\n",
       "      <td>0</td>\n",
       "    </tr>\n",
       "    <tr>\n",
       "      <th>...</th>\n",
       "      <td>...</td>\n",
       "      <td>...</td>\n",
       "      <td>...</td>\n",
       "    </tr>\n",
       "    <tr>\n",
       "      <th>395</th>\n",
       "      <td>46</td>\n",
       "      <td>41000</td>\n",
       "      <td>1</td>\n",
       "    </tr>\n",
       "    <tr>\n",
       "      <th>396</th>\n",
       "      <td>51</td>\n",
       "      <td>23000</td>\n",
       "      <td>1</td>\n",
       "    </tr>\n",
       "    <tr>\n",
       "      <th>397</th>\n",
       "      <td>50</td>\n",
       "      <td>20000</td>\n",
       "      <td>1</td>\n",
       "    </tr>\n",
       "    <tr>\n",
       "      <th>398</th>\n",
       "      <td>36</td>\n",
       "      <td>33000</td>\n",
       "      <td>0</td>\n",
       "    </tr>\n",
       "    <tr>\n",
       "      <th>399</th>\n",
       "      <td>49</td>\n",
       "      <td>36000</td>\n",
       "      <td>1</td>\n",
       "    </tr>\n",
       "  </tbody>\n",
       "</table>\n",
       "<p>400 rows × 3 columns</p>\n",
       "</div>"
      ],
      "text/plain": [
       "     Age  EstimatedSalary  Purchased\n",
       "0     19            19000          0\n",
       "1     35            20000          0\n",
       "2     26            43000          0\n",
       "3     27            57000          0\n",
       "4     19            76000          0\n",
       "..   ...              ...        ...\n",
       "395   46            41000          1\n",
       "396   51            23000          1\n",
       "397   50            20000          1\n",
       "398   36            33000          0\n",
       "399   49            36000          1\n",
       "\n",
       "[400 rows x 3 columns]"
      ]
     },
     "execution_count": 44,
     "metadata": {},
     "output_type": "execute_result"
    }
   ],
   "source": [
    "dfnew = df.drop([\"User ID\",\"Gender\"] ,axis=1)\n",
    "dfnew"
   ]
  },
  {
   "cell_type": "code",
   "execution_count": 45,
   "id": "5dfbffc7",
   "metadata": {},
   "outputs": [
    {
     "data": {
      "text/html": [
       "<div>\n",
       "<style scoped>\n",
       "    .dataframe tbody tr th:only-of-type {\n",
       "        vertical-align: middle;\n",
       "    }\n",
       "\n",
       "    .dataframe tbody tr th {\n",
       "        vertical-align: top;\n",
       "    }\n",
       "\n",
       "    .dataframe thead th {\n",
       "        text-align: right;\n",
       "    }\n",
       "</style>\n",
       "<table border=\"1\" class=\"dataframe\">\n",
       "  <thead>\n",
       "    <tr style=\"text-align: right;\">\n",
       "      <th></th>\n",
       "      <th>Age</th>\n",
       "      <th>EstimatedSalary</th>\n",
       "      <th>Purchased</th>\n",
       "      <th>Male</th>\n",
       "    </tr>\n",
       "  </thead>\n",
       "  <tbody>\n",
       "    <tr>\n",
       "      <th>0</th>\n",
       "      <td>19</td>\n",
       "      <td>19000</td>\n",
       "      <td>0</td>\n",
       "      <td>1</td>\n",
       "    </tr>\n",
       "    <tr>\n",
       "      <th>1</th>\n",
       "      <td>35</td>\n",
       "      <td>20000</td>\n",
       "      <td>0</td>\n",
       "      <td>1</td>\n",
       "    </tr>\n",
       "    <tr>\n",
       "      <th>2</th>\n",
       "      <td>26</td>\n",
       "      <td>43000</td>\n",
       "      <td>0</td>\n",
       "      <td>0</td>\n",
       "    </tr>\n",
       "    <tr>\n",
       "      <th>3</th>\n",
       "      <td>27</td>\n",
       "      <td>57000</td>\n",
       "      <td>0</td>\n",
       "      <td>0</td>\n",
       "    </tr>\n",
       "    <tr>\n",
       "      <th>4</th>\n",
       "      <td>19</td>\n",
       "      <td>76000</td>\n",
       "      <td>0</td>\n",
       "      <td>1</td>\n",
       "    </tr>\n",
       "    <tr>\n",
       "      <th>...</th>\n",
       "      <td>...</td>\n",
       "      <td>...</td>\n",
       "      <td>...</td>\n",
       "      <td>...</td>\n",
       "    </tr>\n",
       "    <tr>\n",
       "      <th>395</th>\n",
       "      <td>46</td>\n",
       "      <td>41000</td>\n",
       "      <td>1</td>\n",
       "      <td>0</td>\n",
       "    </tr>\n",
       "    <tr>\n",
       "      <th>396</th>\n",
       "      <td>51</td>\n",
       "      <td>23000</td>\n",
       "      <td>1</td>\n",
       "      <td>1</td>\n",
       "    </tr>\n",
       "    <tr>\n",
       "      <th>397</th>\n",
       "      <td>50</td>\n",
       "      <td>20000</td>\n",
       "      <td>1</td>\n",
       "      <td>0</td>\n",
       "    </tr>\n",
       "    <tr>\n",
       "      <th>398</th>\n",
       "      <td>36</td>\n",
       "      <td>33000</td>\n",
       "      <td>0</td>\n",
       "      <td>1</td>\n",
       "    </tr>\n",
       "    <tr>\n",
       "      <th>399</th>\n",
       "      <td>49</td>\n",
       "      <td>36000</td>\n",
       "      <td>1</td>\n",
       "      <td>0</td>\n",
       "    </tr>\n",
       "  </tbody>\n",
       "</table>\n",
       "<p>400 rows × 4 columns</p>\n",
       "</div>"
      ],
      "text/plain": [
       "     Age  EstimatedSalary  Purchased  Male\n",
       "0     19            19000          0     1\n",
       "1     35            20000          0     1\n",
       "2     26            43000          0     0\n",
       "3     27            57000          0     0\n",
       "4     19            76000          0     1\n",
       "..   ...              ...        ...   ...\n",
       "395   46            41000          1     0\n",
       "396   51            23000          1     1\n",
       "397   50            20000          1     0\n",
       "398   36            33000          0     1\n",
       "399   49            36000          1     0\n",
       "\n",
       "[400 rows x 4 columns]"
      ]
     },
     "execution_count": 45,
     "metadata": {},
     "output_type": "execute_result"
    }
   ],
   "source": [
    "dffinal = pd.concat([dfnew,dummies],axis =1)\n",
    "dffinal"
   ]
  },
  {
   "cell_type": "code",
   "execution_count": 49,
   "id": "b8cc529b",
   "metadata": {},
   "outputs": [
    {
     "data": {
      "text/plain": [
       "Index(['Age', 'EstimatedSalary', 'Purchased', 'Male'], dtype='object')"
      ]
     },
     "execution_count": 49,
     "metadata": {},
     "output_type": "execute_result"
    }
   ],
   "source": [
    "dffinal.columns"
   ]
  },
  {
   "cell_type": "code",
   "execution_count": 56,
   "id": "e275baa9",
   "metadata": {},
   "outputs": [
    {
     "name": "stdout",
     "output_type": "stream",
     "text": [
      "The value of [[   19 19000     1]\n",
      " [   35 20000     1]\n",
      " [   26 43000     0]\n",
      " ...\n",
      " [   50 20000     0]\n",
      " [   36 33000     1]\n",
      " [   49 36000     0]]\n"
     ]
    }
   ],
   "source": [
    "X = dffinal.loc[:,[\"Age\",\"EstimatedSalary\",\"Male\"]].values\n",
    "print(f\"The value of {X}\")"
   ]
  },
  {
   "cell_type": "code",
   "execution_count": 57,
   "id": "8a08b8b4",
   "metadata": {},
   "outputs": [
    {
     "data": {
      "text/plain": [
       "array([[0],\n",
       "       [0],\n",
       "       [0],\n",
       "       [0],\n",
       "       [0],\n",
       "       [0],\n",
       "       [0],\n",
       "       [1],\n",
       "       [0],\n",
       "       [0],\n",
       "       [0],\n",
       "       [0],\n",
       "       [0],\n",
       "       [0],\n",
       "       [0],\n",
       "       [0],\n",
       "       [1],\n",
       "       [1],\n",
       "       [1],\n",
       "       [1],\n",
       "       [1],\n",
       "       [1],\n",
       "       [1],\n",
       "       [1],\n",
       "       [1],\n",
       "       [1],\n",
       "       [1],\n",
       "       [1],\n",
       "       [0],\n",
       "       [0],\n",
       "       [0],\n",
       "       [1],\n",
       "       [0],\n",
       "       [0],\n",
       "       [0],\n",
       "       [0],\n",
       "       [0],\n",
       "       [0],\n",
       "       [0],\n",
       "       [0],\n",
       "       [0],\n",
       "       [0],\n",
       "       [0],\n",
       "       [0],\n",
       "       [0],\n",
       "       [0],\n",
       "       [0],\n",
       "       [0],\n",
       "       [1],\n",
       "       [0],\n",
       "       [0],\n",
       "       [0],\n",
       "       [0],\n",
       "       [0],\n",
       "       [0],\n",
       "       [0],\n",
       "       [0],\n",
       "       [0],\n",
       "       [0],\n",
       "       [0],\n",
       "       [0],\n",
       "       [0],\n",
       "       [0],\n",
       "       [1],\n",
       "       [0],\n",
       "       [0],\n",
       "       [0],\n",
       "       [0],\n",
       "       [0],\n",
       "       [0],\n",
       "       [0],\n",
       "       [0],\n",
       "       [0],\n",
       "       [0],\n",
       "       [0],\n",
       "       [1],\n",
       "       [0],\n",
       "       [0],\n",
       "       [0],\n",
       "       [0],\n",
       "       [0],\n",
       "       [0],\n",
       "       [0],\n",
       "       [0],\n",
       "       [0],\n",
       "       [1],\n",
       "       [0],\n",
       "       [0],\n",
       "       [0],\n",
       "       [0],\n",
       "       [0],\n",
       "       [0],\n",
       "       [0],\n",
       "       [0],\n",
       "       [0],\n",
       "       [0],\n",
       "       [0],\n",
       "       [1],\n",
       "       [0],\n",
       "       [0],\n",
       "       [0],\n",
       "       [0],\n",
       "       [0],\n",
       "       [1],\n",
       "       [0],\n",
       "       [0],\n",
       "       [0],\n",
       "       [0],\n",
       "       [0],\n",
       "       [0],\n",
       "       [0],\n",
       "       [0],\n",
       "       [0],\n",
       "       [0],\n",
       "       [0],\n",
       "       [0],\n",
       "       [0],\n",
       "       [0],\n",
       "       [0],\n",
       "       [0],\n",
       "       [0],\n",
       "       [0],\n",
       "       [0],\n",
       "       [0],\n",
       "       [0],\n",
       "       [0],\n",
       "       [0],\n",
       "       [0],\n",
       "       [0],\n",
       "       [0],\n",
       "       [0],\n",
       "       [0],\n",
       "       [0],\n",
       "       [0],\n",
       "       [0],\n",
       "       [0],\n",
       "       [0],\n",
       "       [1],\n",
       "       [0],\n",
       "       [0],\n",
       "       [0],\n",
       "       [0],\n",
       "       [0],\n",
       "       [0],\n",
       "       [0],\n",
       "       [0],\n",
       "       [1],\n",
       "       [0],\n",
       "       [0],\n",
       "       [0],\n",
       "       [0],\n",
       "       [0],\n",
       "       [0],\n",
       "       [0],\n",
       "       [0],\n",
       "       [0],\n",
       "       [0],\n",
       "       [0],\n",
       "       [0],\n",
       "       [1],\n",
       "       [1],\n",
       "       [0],\n",
       "       [0],\n",
       "       [0],\n",
       "       [0],\n",
       "       [0],\n",
       "       [0],\n",
       "       [0],\n",
       "       [1],\n",
       "       [0],\n",
       "       [0],\n",
       "       [0],\n",
       "       [0],\n",
       "       [0],\n",
       "       [0],\n",
       "       [0],\n",
       "       [0],\n",
       "       [0],\n",
       "       [0],\n",
       "       [0],\n",
       "       [0],\n",
       "       [0],\n",
       "       [1],\n",
       "       [0],\n",
       "       [0],\n",
       "       [0],\n",
       "       [0],\n",
       "       [0],\n",
       "       [0],\n",
       "       [0],\n",
       "       [0],\n",
       "       [0],\n",
       "       [0],\n",
       "       [0],\n",
       "       [0],\n",
       "       [0],\n",
       "       [0],\n",
       "       [0],\n",
       "       [0],\n",
       "       [0],\n",
       "       [0],\n",
       "       [0],\n",
       "       [1],\n",
       "       [0],\n",
       "       [1],\n",
       "       [0],\n",
       "       [1],\n",
       "       [0],\n",
       "       [1],\n",
       "       [0],\n",
       "       [1],\n",
       "       [1],\n",
       "       [0],\n",
       "       [0],\n",
       "       [0],\n",
       "       [1],\n",
       "       [0],\n",
       "       [0],\n",
       "       [0],\n",
       "       [1],\n",
       "       [0],\n",
       "       [1],\n",
       "       [1],\n",
       "       [1],\n",
       "       [0],\n",
       "       [0],\n",
       "       [1],\n",
       "       [1],\n",
       "       [0],\n",
       "       [1],\n",
       "       [1],\n",
       "       [0],\n",
       "       [1],\n",
       "       [1],\n",
       "       [0],\n",
       "       [1],\n",
       "       [0],\n",
       "       [0],\n",
       "       [0],\n",
       "       [1],\n",
       "       [1],\n",
       "       [0],\n",
       "       [1],\n",
       "       [1],\n",
       "       [0],\n",
       "       [1],\n",
       "       [0],\n",
       "       [1],\n",
       "       [0],\n",
       "       [1],\n",
       "       [0],\n",
       "       [0],\n",
       "       [1],\n",
       "       [1],\n",
       "       [0],\n",
       "       [1],\n",
       "       [0],\n",
       "       [0],\n",
       "       [1],\n",
       "       [1],\n",
       "       [0],\n",
       "       [1],\n",
       "       [1],\n",
       "       [0],\n",
       "       [1],\n",
       "       [1],\n",
       "       [0],\n",
       "       [0],\n",
       "       [1],\n",
       "       [0],\n",
       "       [0],\n",
       "       [1],\n",
       "       [1],\n",
       "       [1],\n",
       "       [1],\n",
       "       [1],\n",
       "       [0],\n",
       "       [1],\n",
       "       [1],\n",
       "       [1],\n",
       "       [1],\n",
       "       [0],\n",
       "       [1],\n",
       "       [1],\n",
       "       [0],\n",
       "       [1],\n",
       "       [0],\n",
       "       [1],\n",
       "       [0],\n",
       "       [1],\n",
       "       [1],\n",
       "       [1],\n",
       "       [1],\n",
       "       [0],\n",
       "       [0],\n",
       "       [0],\n",
       "       [1],\n",
       "       [1],\n",
       "       [0],\n",
       "       [1],\n",
       "       [1],\n",
       "       [1],\n",
       "       [1],\n",
       "       [1],\n",
       "       [0],\n",
       "       [0],\n",
       "       [0],\n",
       "       [1],\n",
       "       [1],\n",
       "       [0],\n",
       "       [0],\n",
       "       [1],\n",
       "       [0],\n",
       "       [1],\n",
       "       [0],\n",
       "       [1],\n",
       "       [1],\n",
       "       [0],\n",
       "       [1],\n",
       "       [0],\n",
       "       [1],\n",
       "       [1],\n",
       "       [0],\n",
       "       [1],\n",
       "       [1],\n",
       "       [0],\n",
       "       [0],\n",
       "       [0],\n",
       "       [1],\n",
       "       [1],\n",
       "       [0],\n",
       "       [1],\n",
       "       [0],\n",
       "       [0],\n",
       "       [1],\n",
       "       [0],\n",
       "       [1],\n",
       "       [0],\n",
       "       [0],\n",
       "       [1],\n",
       "       [1],\n",
       "       [0],\n",
       "       [0],\n",
       "       [1],\n",
       "       [1],\n",
       "       [0],\n",
       "       [1],\n",
       "       [1],\n",
       "       [0],\n",
       "       [0],\n",
       "       [1],\n",
       "       [0],\n",
       "       [1],\n",
       "       [0],\n",
       "       [1],\n",
       "       [1],\n",
       "       [1],\n",
       "       [0],\n",
       "       [1],\n",
       "       [0],\n",
       "       [1],\n",
       "       [1],\n",
       "       [1],\n",
       "       [0],\n",
       "       [1],\n",
       "       [1],\n",
       "       [1],\n",
       "       [1],\n",
       "       [0],\n",
       "       [1],\n",
       "       [1],\n",
       "       [1],\n",
       "       [0],\n",
       "       [1],\n",
       "       [0],\n",
       "       [1],\n",
       "       [0],\n",
       "       [0],\n",
       "       [1],\n",
       "       [1],\n",
       "       [0],\n",
       "       [1],\n",
       "       [1],\n",
       "       [1],\n",
       "       [1],\n",
       "       [1],\n",
       "       [1],\n",
       "       [0],\n",
       "       [1],\n",
       "       [1],\n",
       "       [1],\n",
       "       [1],\n",
       "       [1],\n",
       "       [1],\n",
       "       [0],\n",
       "       [1],\n",
       "       [1],\n",
       "       [1],\n",
       "       [0],\n",
       "       [1]], dtype=int64)"
      ]
     },
     "execution_count": 57,
     "metadata": {},
     "output_type": "execute_result"
    }
   ],
   "source": [
    "y= dffinal.loc[:,[\"Purchased\"]].values\n",
    "y"
   ]
  },
  {
   "cell_type": "code",
   "execution_count": 63,
   "id": "a8103d9c",
   "metadata": {},
   "outputs": [
    {
     "data": {
      "text/plain": [
       "(400,)"
      ]
     },
     "execution_count": 63,
     "metadata": {},
     "output_type": "execute_result"
    }
   ],
   "source": [
    "Y=y.reshape(-1)\n",
    "Y.shape"
   ]
  },
  {
   "cell_type": "code",
   "execution_count": 64,
   "id": "74ec0052",
   "metadata": {},
   "outputs": [],
   "source": [
    "from sklearn.model_selection import train_test_split\n",
    "X_train,X_test,y_train,y_test = train_test_split(X,Y, random_state = 0,test_size = 0.25)\n"
   ]
  },
  {
   "cell_type": "code",
   "execution_count": 65,
   "id": "b19cf42f",
   "metadata": {},
   "outputs": [
    {
     "data": {
      "text/plain": [
       "(300, 3)"
      ]
     },
     "execution_count": 65,
     "metadata": {},
     "output_type": "execute_result"
    }
   ],
   "source": [
    "X_train.shape"
   ]
  },
  {
   "cell_type": "code",
   "execution_count": 66,
   "id": "120df955",
   "metadata": {},
   "outputs": [
    {
     "data": {
      "text/plain": [
       "(100, 3)"
      ]
     },
     "execution_count": 66,
     "metadata": {},
     "output_type": "execute_result"
    }
   ],
   "source": [
    "X_test.shape"
   ]
  },
  {
   "cell_type": "code",
   "execution_count": 95,
   "id": "0a89a19c",
   "metadata": {},
   "outputs": [
    {
     "data": {
      "text/plain": [
       "(300,)"
      ]
     },
     "execution_count": 95,
     "metadata": {},
     "output_type": "execute_result"
    }
   ],
   "source": [
    "y_train.shape"
   ]
  },
  {
   "cell_type": "code",
   "execution_count": 96,
   "id": "bf908c8a",
   "metadata": {},
   "outputs": [
    {
     "data": {
      "text/plain": [
       "(100,)"
      ]
     },
     "execution_count": 96,
     "metadata": {},
     "output_type": "execute_result"
    }
   ],
   "source": [
    "y_test.shape"
   ]
  },
  {
   "cell_type": "code",
   "execution_count": 68,
   "id": "8126b830",
   "metadata": {},
   "outputs": [
    {
     "data": {
      "text/plain": [
       "(400,)"
      ]
     },
     "execution_count": 68,
     "metadata": {},
     "output_type": "execute_result"
    }
   ],
   "source": [
    "Y.shape"
   ]
  },
  {
   "cell_type": "code",
   "execution_count": 70,
   "id": "cbc4a881",
   "metadata": {},
   "outputs": [],
   "source": [
    "from sklearn.preprocessing import StandardScaler\n",
    "scaler = StandardScaler()"
   ]
  },
  {
   "cell_type": "code",
   "execution_count": 81,
   "id": "9facfbef",
   "metadata": {},
   "outputs": [],
   "source": [
    "scaler.fit(X_train)\n",
    "X_train = scaler.transform(X_train)"
   ]
  },
  {
   "cell_type": "code",
   "execution_count": 82,
   "id": "d25140c8",
   "metadata": {},
   "outputs": [
    {
     "data": {
      "text/plain": [
       "array([[ 0.58164944, -0.88670699, -0.98019606],\n",
       "       [-0.60673761,  1.46173768,  1.02020406],\n",
       "       [-0.01254409, -0.5677824 , -0.98019606],\n",
       "       [-0.60673761,  1.89663484, -0.98019606],\n",
       "       [ 1.37390747, -1.40858358, -0.98019606],\n",
       "       [ 1.47293972,  0.99784738, -0.98019606],\n",
       "       [ 0.08648817, -0.79972756,  1.02020406],\n",
       "       [-0.01254409, -0.24885782,  1.02020406],\n",
       "       [-0.21060859, -0.5677824 , -0.98019606],\n",
       "       [-0.21060859, -0.19087153, -0.98019606],\n",
       "       [-0.30964085, -1.29261101, -0.98019606],\n",
       "       [-0.30964085, -0.5677824 ,  1.02020406],\n",
       "       [ 0.38358493,  0.09905991,  1.02020406],\n",
       "       [ 0.8787462 , -0.59677555, -0.98019606],\n",
       "       [ 2.06713324, -1.17663843, -0.98019606],\n",
       "       [ 1.07681071, -0.13288524,  1.02020406],\n",
       "       [ 0.68068169,  1.78066227, -0.98019606],\n",
       "       [-0.70576986,  0.56295021, -0.98019606],\n",
       "       [ 0.77971394,  0.35999821, -0.98019606],\n",
       "       [ 0.8787462 , -0.53878926, -0.98019606],\n",
       "       [-1.20093113, -1.58254245,  1.02020406],\n",
       "       [ 2.1661655 ,  0.93986109,  1.02020406],\n",
       "       [-0.01254409,  1.22979253, -0.98019606],\n",
       "       [ 0.18552042,  1.08482681,  1.02020406],\n",
       "       [ 0.38358493, -0.48080297, -0.98019606],\n",
       "       [-0.30964085, -0.30684411,  1.02020406],\n",
       "       [ 0.97777845, -0.8287207 ,  1.02020406],\n",
       "       [ 0.97777845,  1.8676417 , -0.98019606],\n",
       "       [-0.01254409,  1.25878567, -0.98019606],\n",
       "       [-0.90383437,  2.27354572,  1.02020406],\n",
       "       [-1.20093113, -1.58254245, -0.98019606],\n",
       "       [ 2.1661655 , -0.79972756,  1.02020406],\n",
       "       [-1.39899564, -1.46656987,  1.02020406],\n",
       "       [ 0.38358493,  2.30253886,  1.02020406],\n",
       "       [ 0.77971394,  0.76590222, -0.98019606],\n",
       "       [-1.00286662, -0.30684411,  1.02020406],\n",
       "       [ 0.08648817,  0.76590222,  1.02020406],\n",
       "       [-1.00286662,  0.56295021,  1.02020406],\n",
       "       [ 0.28455268,  0.07006676,  1.02020406],\n",
       "       [ 0.68068169, -1.26361786,  1.02020406],\n",
       "       [-0.50770535, -0.01691267, -0.98019606],\n",
       "       [-1.79512465,  0.35999821, -0.98019606],\n",
       "       [-0.70576986,  0.12805305,  1.02020406],\n",
       "       [ 0.38358493,  0.30201192,  1.02020406],\n",
       "       [-0.30964085,  0.07006676, -0.98019606],\n",
       "       [-0.50770535,  2.30253886, -0.98019606],\n",
       "       [ 0.18552042,  0.04107362,  1.02020406],\n",
       "       [ 1.27487521,  2.21555943, -0.98019606],\n",
       "       [ 0.77971394,  0.27301877,  1.02020406],\n",
       "       [-0.30964085,  0.1570462 ,  1.02020406],\n",
       "       [-0.01254409, -0.53878926,  1.02020406],\n",
       "       [-0.21060859,  0.1570462 , -0.98019606],\n",
       "       [-0.11157634,  0.24402563, -0.98019606],\n",
       "       [-0.01254409, -0.24885782,  1.02020406],\n",
       "       [ 2.1661655 ,  1.11381995, -0.98019606],\n",
       "       [-1.79512465,  0.35999821, -0.98019606],\n",
       "       [ 1.86906873,  0.12805305,  1.02020406],\n",
       "       [ 0.38358493, -0.13288524,  1.02020406],\n",
       "       [-1.20093113,  0.30201192,  1.02020406],\n",
       "       [ 0.77971394,  1.37475825,  1.02020406],\n",
       "       [-0.30964085, -0.24885782,  1.02020406],\n",
       "       [-1.6960924 , -0.04590581, -0.98019606],\n",
       "       [-1.00286662, -0.74174127, -0.98019606],\n",
       "       [ 0.28455268,  0.50496393,  1.02020406],\n",
       "       [-0.11157634, -1.06066585, -0.98019606],\n",
       "       [-1.10189888,  0.59194336,  1.02020406],\n",
       "       [ 0.08648817, -0.79972756,  1.02020406],\n",
       "       [-1.00286662,  1.54871711,  1.02020406],\n",
       "       [-0.70576986,  1.40375139, -0.98019606],\n",
       "       [-1.29996338,  0.50496393,  1.02020406],\n",
       "       [-0.30964085,  0.04107362, -0.98019606],\n",
       "       [-0.11157634,  0.01208048,  1.02020406],\n",
       "       [-0.30964085, -0.88670699,  1.02020406],\n",
       "       [ 0.8787462 , -1.3505973 ,  1.02020406],\n",
       "       [-0.30964085,  2.24455257, -0.98019606],\n",
       "       [ 0.97777845,  1.98361427, -0.98019606],\n",
       "       [-1.20093113,  0.47597078,  1.02020406],\n",
       "       [-1.29996338,  0.27301877,  1.02020406],\n",
       "       [ 1.37390747,  1.98361427, -0.98019606],\n",
       "       [ 1.27487521, -1.3505973 ,  1.02020406],\n",
       "       [-0.30964085, -0.27785096, -0.98019606],\n",
       "       [-0.50770535,  1.25878567, -0.98019606],\n",
       "       [-0.80480212,  1.08482681,  1.02020406],\n",
       "       [ 0.97777845, -1.06066585,  1.02020406],\n",
       "       [ 0.28455268,  0.30201192, -0.98019606],\n",
       "       [ 0.97777845,  0.76590222, -0.98019606],\n",
       "       [-0.70576986, -1.49556302,  1.02020406],\n",
       "       [-0.70576986,  0.04107362, -0.98019606],\n",
       "       [ 0.48261718,  1.72267598,  1.02020406],\n",
       "       [ 2.06713324,  0.18603934, -0.98019606],\n",
       "       [-1.99318916, -0.74174127, -0.98019606],\n",
       "       [-0.21060859,  1.40375139,  1.02020406],\n",
       "       [ 0.38358493,  0.59194336, -0.98019606],\n",
       "       [ 0.8787462 , -1.14764529, -0.98019606],\n",
       "       [-1.20093113, -0.77073441, -0.98019606],\n",
       "       [ 0.18552042,  0.24402563,  1.02020406],\n",
       "       [ 0.77971394, -0.30684411,  1.02020406],\n",
       "       [ 2.06713324, -0.79972756, -0.98019606],\n",
       "       [ 0.77971394,  0.12805305, -0.98019606],\n",
       "       [-0.30964085,  0.6209365 ,  1.02020406],\n",
       "       [-1.00286662, -0.30684411, -0.98019606],\n",
       "       [ 0.18552042, -0.3648304 ,  1.02020406],\n",
       "       [ 2.06713324,  2.12857999,  1.02020406],\n",
       "       [ 1.86906873, -1.26361786, -0.98019606],\n",
       "       [ 1.37390747, -0.91570013, -0.98019606],\n",
       "       [ 0.8787462 ,  1.25878567, -0.98019606],\n",
       "       [ 1.47293972,  2.12857999, -0.98019606],\n",
       "       [-0.30964085, -1.23462472,  1.02020406],\n",
       "       [ 1.96810099,  0.91086794, -0.98019606],\n",
       "       [ 0.68068169, -0.71274813, -0.98019606],\n",
       "       [-1.49802789,  0.35999821, -0.98019606],\n",
       "       [ 0.77971394, -1.3505973 ,  1.02020406],\n",
       "       [ 0.38358493, -0.13288524,  1.02020406],\n",
       "       [-1.00286662,  0.41798449, -0.98019606],\n",
       "       [-0.01254409, -0.30684411,  1.02020406],\n",
       "       [-1.20093113,  0.41798449, -0.98019606],\n",
       "       [-0.90383437, -1.20563157, -0.98019606],\n",
       "       [-0.11157634,  0.04107362, -0.98019606],\n",
       "       [-1.59706014, -0.42281668, -0.98019606],\n",
       "       [ 0.97777845, -1.00267957, -0.98019606],\n",
       "       [ 1.07681071, -1.20563157,  1.02020406],\n",
       "       [-0.01254409, -0.13288524, -0.98019606],\n",
       "       [-1.10189888, -1.52455616, -0.98019606],\n",
       "       [ 0.77971394, -1.20563157,  1.02020406],\n",
       "       [ 0.97777845,  2.07059371,  1.02020406],\n",
       "       [-1.20093113, -1.52455616, -0.98019606],\n",
       "       [-0.30964085,  0.79489537, -0.98019606],\n",
       "       [ 0.08648817, -0.30684411, -0.98019606],\n",
       "       [-1.39899564, -1.23462472, -0.98019606],\n",
       "       [-0.60673761, -1.49556302,  1.02020406],\n",
       "       [ 0.77971394,  0.53395707,  1.02020406],\n",
       "       [-0.30964085, -0.33583725,  1.02020406],\n",
       "       [ 1.77003648, -0.27785096,  1.02020406],\n",
       "       [ 0.8787462 , -1.03167271,  1.02020406],\n",
       "       [ 0.18552042,  0.07006676, -0.98019606],\n",
       "       [-0.60673761,  0.8818748 ,  1.02020406],\n",
       "       [-1.89415691, -1.40858358, -0.98019606],\n",
       "       [-1.29996338,  0.59194336,  1.02020406],\n",
       "       [-0.30964085,  0.53395707,  1.02020406],\n",
       "       [-1.00286662, -1.089659  ,  1.02020406],\n",
       "       [ 1.17584296, -1.43757673, -0.98019606],\n",
       "       [ 0.18552042, -0.30684411,  1.02020406],\n",
       "       [ 1.17584296, -0.74174127, -0.98019606],\n",
       "       [-0.30964085,  0.07006676,  1.02020406],\n",
       "       [ 0.18552042,  2.09958685, -0.98019606],\n",
       "       [ 0.77971394, -1.089659  , -0.98019606],\n",
       "       [ 0.08648817,  0.04107362, -0.98019606],\n",
       "       [-1.79512465,  0.12805305,  1.02020406],\n",
       "       [-0.90383437,  0.1570462 ,  1.02020406],\n",
       "       [-0.70576986,  0.18603934,  1.02020406],\n",
       "       [ 0.8787462 , -1.29261101,  1.02020406],\n",
       "       [ 0.18552042, -0.24885782,  1.02020406],\n",
       "       [-0.4086731 ,  1.22979253,  1.02020406],\n",
       "       [-0.01254409,  0.30201192, -0.98019606],\n",
       "       [ 0.38358493,  0.1570462 , -0.98019606],\n",
       "       [ 0.8787462 , -0.65476184, -0.98019606],\n",
       "       [ 0.08648817,  0.1570462 , -0.98019606],\n",
       "       [-1.89415691, -1.29261101,  1.02020406],\n",
       "       [-0.11157634,  0.30201192, -0.98019606],\n",
       "       [-0.21060859, -0.27785096,  1.02020406],\n",
       "       [ 0.28455268, -0.50979612,  1.02020406],\n",
       "       [-0.21060859,  1.6067034 ,  1.02020406],\n",
       "       [ 0.97777845, -1.17663843, -0.98019606],\n",
       "       [-0.21060859,  1.63569655, -0.98019606],\n",
       "       [ 1.27487521,  1.8676417 , -0.98019606],\n",
       "       [-1.10189888, -0.3648304 , -0.98019606],\n",
       "       [-0.01254409,  0.04107362,  1.02020406],\n",
       "       [ 0.08648817, -0.24885782, -0.98019606],\n",
       "       [-1.59706014, -1.23462472, -0.98019606],\n",
       "       [-0.50770535, -0.27785096, -0.98019606],\n",
       "       [ 0.97777845,  0.12805305,  1.02020406],\n",
       "       [ 1.96810099, -1.3505973 , -0.98019606],\n",
       "       [ 1.47293972,  0.07006676,  1.02020406],\n",
       "       [-0.60673761,  1.37475825, -0.98019606],\n",
       "       [ 1.57197197,  0.01208048,  1.02020406],\n",
       "       [-0.80480212,  0.30201192,  1.02020406],\n",
       "       [ 1.96810099,  0.73690908, -0.98019606],\n",
       "       [-1.20093113, -0.50979612, -0.98019606],\n",
       "       [ 0.68068169,  0.27301877,  1.02020406],\n",
       "       [-1.39899564, -0.42281668,  1.02020406],\n",
       "       [ 0.18552042,  0.1570462 ,  1.02020406],\n",
       "       [-0.50770535, -1.20563157, -0.98019606],\n",
       "       [ 0.58164944,  2.01260742, -0.98019606],\n",
       "       [-1.59706014, -1.49556302,  1.02020406],\n",
       "       [-0.50770535, -0.53878926, -0.98019606],\n",
       "       [ 0.48261718,  1.83864855, -0.98019606],\n",
       "       [-1.39899564, -1.089659  , -0.98019606],\n",
       "       [ 0.77971394, -1.37959044, -0.98019606],\n",
       "       [-0.30964085, -0.42281668,  1.02020406],\n",
       "       [ 1.57197197,  0.99784738, -0.98019606],\n",
       "       [ 0.97777845,  1.43274454, -0.98019606],\n",
       "       [-0.30964085, -0.48080297,  1.02020406],\n",
       "       [-0.11157634,  2.15757314,  1.02020406],\n",
       "       [-1.49802789, -0.1038921 , -0.98019606],\n",
       "       [-0.11157634,  1.95462113, -0.98019606],\n",
       "       [-0.70576986, -0.33583725,  1.02020406],\n",
       "       [-0.50770535, -0.8287207 , -0.98019606],\n",
       "       [ 0.68068169, -1.37959044, -0.98019606],\n",
       "       [-0.80480212, -1.58254245,  1.02020406],\n",
       "       [-1.89415691, -1.46656987,  1.02020406],\n",
       "       [ 1.07681071,  0.12805305,  1.02020406],\n",
       "       [ 0.08648817,  1.51972397,  1.02020406],\n",
       "       [-0.30964085,  0.09905991,  1.02020406],\n",
       "       [ 0.08648817,  0.04107362,  1.02020406],\n",
       "       [-1.39899564, -1.3505973 ,  1.02020406],\n",
       "       [ 0.28455268,  0.07006676, -0.98019606],\n",
       "       [-0.90383437,  0.38899135, -0.98019606],\n",
       "       [ 1.57197197, -1.26361786, -0.98019606],\n",
       "       [-0.30964085, -0.74174127, -0.98019606],\n",
       "       [-0.11157634,  0.1570462 ,  1.02020406],\n",
       "       [-0.90383437, -0.65476184, -0.98019606],\n",
       "       [-0.70576986, -0.04590581, -0.98019606],\n",
       "       [ 0.38358493, -0.45180983,  1.02020406],\n",
       "       [-0.80480212,  1.89663484,  1.02020406],\n",
       "       [ 1.37390747,  1.28777882, -0.98019606],\n",
       "       [ 1.17584296, -0.97368642, -0.98019606],\n",
       "       [ 1.77003648,  1.83864855,  1.02020406],\n",
       "       [-0.90383437, -0.24885782,  1.02020406],\n",
       "       [-0.80480212,  0.56295021,  1.02020406],\n",
       "       [-1.20093113, -1.5535493 ,  1.02020406],\n",
       "       [-0.50770535, -1.11865214,  1.02020406],\n",
       "       [ 0.28455268,  0.07006676, -0.98019606],\n",
       "       [-0.21060859, -1.06066585,  1.02020406],\n",
       "       [ 1.67100423,  1.6067034 , -0.98019606],\n",
       "       [ 0.97777845,  1.78066227, -0.98019606],\n",
       "       [ 0.28455268,  0.04107362, -0.98019606],\n",
       "       [-0.80480212, -0.21986468, -0.98019606],\n",
       "       [-0.11157634,  0.07006676,  1.02020406],\n",
       "       [ 0.28455268, -0.19087153, -0.98019606],\n",
       "       [ 1.96810099, -0.65476184, -0.98019606],\n",
       "       [-0.80480212,  1.3457651 , -0.98019606],\n",
       "       [-1.79512465, -0.59677555,  1.02020406],\n",
       "       [-0.11157634,  0.12805305,  1.02020406],\n",
       "       [ 0.28455268, -0.30684411,  1.02020406],\n",
       "       [ 1.07681071,  0.56295021,  1.02020406],\n",
       "       [-1.00286662,  0.27301877,  1.02020406],\n",
       "       [ 1.47293972,  0.35999821, -0.98019606],\n",
       "       [ 0.18552042, -0.3648304 ,  1.02020406],\n",
       "       [ 2.1661655 , -1.03167271,  1.02020406],\n",
       "       [-0.30964085,  1.11381995,  1.02020406],\n",
       "       [-1.6960924 ,  0.07006676,  1.02020406],\n",
       "       [-0.01254409,  0.04107362,  1.02020406],\n",
       "       [ 0.08648817,  1.05583366,  1.02020406],\n",
       "       [-0.11157634, -0.3648304 , -0.98019606],\n",
       "       [-1.20093113,  0.07006676, -0.98019606],\n",
       "       [-0.30964085, -1.3505973 , -0.98019606],\n",
       "       [ 1.57197197,  1.11381995, -0.98019606],\n",
       "       [-0.80480212, -1.52455616,  1.02020406],\n",
       "       [ 0.08648817,  1.8676417 ,  1.02020406],\n",
       "       [-0.90383437, -0.77073441,  1.02020406],\n",
       "       [-0.50770535, -0.77073441,  1.02020406],\n",
       "       [-0.30964085, -0.91570013,  1.02020406],\n",
       "       [ 0.28455268, -0.71274813,  1.02020406],\n",
       "       [ 0.28455268,  0.07006676, -0.98019606],\n",
       "       [ 0.08648817,  1.8676417 , -0.98019606],\n",
       "       [-1.10189888,  1.95462113, -0.98019606],\n",
       "       [-1.6960924 , -1.5535493 , -0.98019606],\n",
       "       [-1.20093113, -1.089659  ,  1.02020406],\n",
       "       [-0.70576986, -0.1038921 ,  1.02020406],\n",
       "       [ 0.08648817,  0.09905991, -0.98019606],\n",
       "       [ 0.28455268,  0.27301877,  1.02020406],\n",
       "       [ 0.8787462 , -0.5677824 , -0.98019606],\n",
       "       [ 0.28455268, -1.14764529, -0.98019606],\n",
       "       [-0.11157634,  0.67892279, -0.98019606],\n",
       "       [ 2.1661655 , -0.68375498, -0.98019606],\n",
       "       [-1.29996338, -1.37959044,  1.02020406],\n",
       "       [-1.00286662, -0.94469328, -0.98019606],\n",
       "       [-0.01254409, -0.42281668, -0.98019606],\n",
       "       [-0.21060859, -0.45180983, -0.98019606],\n",
       "       [-1.79512465, -0.97368642, -0.98019606],\n",
       "       [ 1.77003648,  0.99784738, -0.98019606],\n",
       "       [ 0.18552042, -0.3648304 ,  1.02020406],\n",
       "       [ 0.38358493,  1.11381995, -0.98019606],\n",
       "       [-1.79512465, -1.3505973 , -0.98019606],\n",
       "       [ 0.18552042, -0.13288524,  1.02020406],\n",
       "       [ 0.8787462 , -1.43757673,  1.02020406],\n",
       "       [-1.99318916,  0.47597078, -0.98019606],\n",
       "       [-0.30964085,  0.27301877,  1.02020406],\n",
       "       [ 1.86906873, -1.06066585, -0.98019606],\n",
       "       [-0.4086731 ,  0.07006676, -0.98019606],\n",
       "       [ 1.07681071, -0.88670699, -0.98019606],\n",
       "       [-1.10189888, -1.11865214, -0.98019606],\n",
       "       [-1.89415691,  0.01208048,  1.02020406],\n",
       "       [ 0.08648817,  0.27301877, -0.98019606],\n",
       "       [-1.20093113,  0.33100506,  1.02020406],\n",
       "       [-1.29996338,  0.30201192,  1.02020406],\n",
       "       [-1.00286662,  0.44697764, -0.98019606],\n",
       "       [ 1.67100423, -0.88670699,  1.02020406],\n",
       "       [ 1.17584296,  0.53395707, -0.98019606],\n",
       "       [ 1.07681071,  0.53395707,  1.02020406],\n",
       "       [ 1.37390747,  2.331532  ,  1.02020406],\n",
       "       [-0.30964085, -0.13288524, -0.98019606],\n",
       "       [ 0.38358493, -0.45180983,  1.02020406],\n",
       "       [-0.4086731 , -0.77073441,  1.02020406],\n",
       "       [-0.11157634, -0.50979612,  1.02020406],\n",
       "       [ 0.97777845, -1.14764529, -0.98019606],\n",
       "       [-0.90383437, -0.77073441,  1.02020406],\n",
       "       [-0.21060859, -0.50979612,  1.02020406],\n",
       "       [-1.10189888, -0.45180983, -0.98019606],\n",
       "       [-1.20093113,  1.40375139, -0.98019606]])"
      ]
     },
     "execution_count": 82,
     "metadata": {},
     "output_type": "execute_result"
    }
   ],
   "source": [
    "X_train"
   ]
  },
  {
   "cell_type": "code",
   "execution_count": 83,
   "id": "c92786a2",
   "metadata": {},
   "outputs": [],
   "source": [
    "X_test = scaler.fit_transform(X_test)"
   ]
  },
  {
   "cell_type": "code",
   "execution_count": 84,
   "id": "b890ddd4",
   "metadata": {},
   "outputs": [
    {
     "data": {
      "text/plain": [
       "array([[-0.54748976,  0.5130727 ,  1.02020406],\n",
       "       [ 0.15442019, -0.61825566, -0.98019606],\n",
       "       [-0.10879604,  0.14615539,  1.02020406],\n",
       "       [-0.54748976,  0.26846116, -0.98019606],\n",
       "       [-0.10879604, -0.61825566, -0.98019606],\n",
       "       [-0.81070599, -1.53554892,  1.02020406],\n",
       "       [-0.45975102, -1.68843113, -0.98019606],\n",
       "       [-0.0210573 ,  2.25592989,  1.02020406],\n",
       "       [-1.60035469, -0.0678797 , -0.98019606],\n",
       "       [ 0.94406888, -0.83229075,  1.02020406],\n",
       "       [-0.54748976, -0.6488321 ,  1.02020406],\n",
       "       [-0.72296725, -0.46537345, -0.98019606],\n",
       "       [ 0.06668145, -0.46537345,  1.02020406],\n",
       "       [ 0.24215893,  0.20730828,  1.02020406],\n",
       "       [-1.4248772 ,  0.48249625,  1.02020406],\n",
       "       [-0.37201227,  1.43036596, -0.98019606],\n",
       "       [ 0.06668145,  0.20730828,  1.02020406],\n",
       "       [-1.51261594,  0.45191981,  1.02020406],\n",
       "       [ 1.64597884,  1.8278597 , -0.98019606],\n",
       "       [-0.10879604, -1.47439603,  1.02020406],\n",
       "       [-0.10879604, -0.70998498, -0.98019606],\n",
       "       [ 0.94406888,  2.25592989, -0.98019606],\n",
       "       [ 0.41763642, -0.58767922, -0.98019606],\n",
       "       [ 0.94406888,  1.06344865,  1.02020406],\n",
       "       [-1.16166097, -1.29093738, -0.98019606],\n",
       "       [ 1.11954637,  2.16420057, -0.98019606],\n",
       "       [-0.72296725,  0.5130727 , -0.98019606],\n",
       "       [-0.63522851,  0.2990376 ,  1.02020406],\n",
       "       [ 0.06668145, -0.25133835, -0.98019606],\n",
       "       [-0.37201227,  0.48249625, -0.98019606],\n",
       "       [-1.33713846,  0.54364914,  1.02020406],\n",
       "       [ 0.06668145,  0.26846116,  1.02020406],\n",
       "       [ 1.82145632, -0.31249124,  1.02020406],\n",
       "       [ 0.06668145, -0.52652633,  1.02020406],\n",
       "       [-1.07392223, -0.37364412,  1.02020406],\n",
       "       [-1.60035469, -0.55710277,  1.02020406],\n",
       "       [-1.24939971,  0.32961404,  1.02020406],\n",
       "       [-0.19653479, -0.83229075, -0.98019606],\n",
       "       [-0.45975102, -1.10747873, -0.98019606],\n",
       "       [ 1.11954637, -1.04632585, -0.98019606],\n",
       "       [-0.81070599,  0.54364914,  1.02020406],\n",
       "       [ 0.41763642, -0.55710277,  1.02020406],\n",
       "       [-0.81070599,  0.42134337, -0.98019606],\n",
       "       [-0.10879604, -1.53554892,  1.02020406],\n",
       "       [ 0.59311391,  1.27748375, -0.98019606],\n",
       "       [-0.81070599, -0.37364412, -0.98019606],\n",
       "       [ 0.06668145,  0.2990376 , -0.98019606],\n",
       "       [ 1.3827626 ,  0.60480202, -0.98019606],\n",
       "       [-0.89844474, -1.2297845 ,  1.02020406],\n",
       "       [ 1.11954637,  0.48249625,  1.02020406],\n",
       "       [ 1.82145632,  1.58324817, -0.98019606],\n",
       "       [-0.19653479, -1.38266671, -0.98019606],\n",
       "       [-0.10879604, -0.40422056, -0.98019606],\n",
       "       [-0.19653479,  1.36921307,  1.02020406],\n",
       "       [ 1.99693381,  0.54364914, -0.98019606],\n",
       "       [ 0.7685914 , -1.16863161,  1.02020406],\n",
       "       [-0.63522851,  0.39076693, -0.98019606],\n",
       "       [-0.89844474,  0.2990376 , -0.98019606],\n",
       "       [ 1.11954637, -1.29093738,  1.02020406],\n",
       "       [-1.16166097, -1.53554892,  1.02020406],\n",
       "       [-0.37201227, -1.5967018 ,  1.02020406],\n",
       "       [ 2.08467255, -0.86286719,  1.02020406],\n",
       "       [-1.51261594,  0.17673183,  1.02020406],\n",
       "       [-0.0210573 ,  0.87999   ,  1.02020406],\n",
       "       [-1.51261594, -1.35209027, -0.98019606],\n",
       "       [ 2.08467255,  0.39076693,  1.02020406],\n",
       "       [-1.07392223,  0.57422558, -0.98019606],\n",
       "       [-0.81070599, -0.37364412,  1.02020406],\n",
       "       [ 0.32989768, -0.70998498,  1.02020406],\n",
       "       [ 0.50537516, -0.00672682, -0.98019606],\n",
       "       [-0.37201227,  2.43938854, -0.98019606],\n",
       "       [-0.10879604,  0.20730828, -0.98019606],\n",
       "       [-1.24939971, -0.22076191, -0.98019606],\n",
       "       [ 0.7685914 , -1.47439603,  1.02020406],\n",
       "       [-0.81070599,  0.57422558,  1.02020406],\n",
       "       [-1.60035469,  0.36019049,  1.02020406],\n",
       "       [ 0.50537516,  0.26846116, -0.98019606],\n",
       "       [ 0.32989768, -0.31249124, -0.98019606],\n",
       "       [ 1.47050135, -1.10747873, -0.98019606],\n",
       "       [ 0.94406888,  1.12460154, -0.98019606],\n",
       "       [ 1.90919507,  2.25592989,  1.02020406],\n",
       "       [ 1.99693381,  0.39076693, -0.98019606],\n",
       "       [-1.07392223, -0.46537345, -0.98019606],\n",
       "       [-0.89844474, -1.07690229, -0.98019606],\n",
       "       [ 1.90919507, -0.98517296, -0.98019606],\n",
       "       [ 0.50537516,  0.2990376 , -0.98019606],\n",
       "       [ 0.32989768,  0.14615539, -0.98019606],\n",
       "       [ 1.99693381,  1.8278597 ,  1.02020406],\n",
       "       [ 0.85633014, -0.89344364, -0.98019606],\n",
       "       [ 0.41763642, -0.31249124, -0.98019606],\n",
       "       [ 0.50537516, -0.19018547,  1.02020406],\n",
       "       [ 0.06668145,  2.31708278, -0.98019606],\n",
       "       [-1.16166097, -0.67940854, -0.98019606],\n",
       "       [-0.98618348, -1.13805517,  1.02020406],\n",
       "       [-1.07392223,  0.42134337,  1.02020406],\n",
       "       [-0.81070599,  0.78826068, -0.98019606],\n",
       "       [-1.16166097, -0.22076191,  1.02020406],\n",
       "       [ 1.03180763, -1.13805517,  1.02020406],\n",
       "       [ 1.03180763,  0.60480202,  1.02020406],\n",
       "       [ 0.50537516,  1.03287221,  1.02020406]])"
      ]
     },
     "execution_count": 84,
     "metadata": {},
     "output_type": "execute_result"
    }
   ],
   "source": [
    "X_test"
   ]
  },
  {
   "cell_type": "code",
   "execution_count": 85,
   "id": "65997e84",
   "metadata": {},
   "outputs": [
    {
     "data": {
      "text/plain": [
       "17.320508075688775"
      ]
     },
     "execution_count": 85,
     "metadata": {},
     "output_type": "execute_result"
    }
   ],
   "source": [
    "# 1st method\n",
    "np.sqrt(X_train.shape[0])"
   ]
  },
  {
   "cell_type": "code",
   "execution_count": 92,
   "id": "27ebf781",
   "metadata": {},
   "outputs": [],
   "source": [
    "# let us take value of \n",
    "k = 17"
   ]
  },
  {
   "cell_type": "code",
   "execution_count": 93,
   "id": "13babdca",
   "metadata": {},
   "outputs": [],
   "source": [
    "from sklearn.neighbors import KNeighborsClassifier\n",
    "knn = KNeighborsClassifier(n_neighbors=k)"
   ]
  },
  {
   "cell_type": "code",
   "execution_count": 97,
   "id": "4f37d4d0",
   "metadata": {},
   "outputs": [
    {
     "data": {
      "text/plain": [
       "KNeighborsClassifier(n_neighbors=17)"
      ]
     },
     "execution_count": 97,
     "metadata": {},
     "output_type": "execute_result"
    }
   ],
   "source": [
    "knn.fit(X_train,y_train)"
   ]
  },
  {
   "cell_type": "code",
   "execution_count": 99,
   "id": "f41301f8",
   "metadata": {},
   "outputs": [
    {
     "data": {
      "text/plain": [
       "array([0, 0, 0, 0, 0, 0, 0, 1, 0, 1, 0, 0, 0, 0, 0, 1, 0, 0, 1, 0, 0, 1,\n",
       "       0, 1, 0, 1, 0, 0, 0, 0, 0, 0, 1, 0, 0, 0, 0, 0, 0, 1, 0, 0, 0, 0,\n",
       "       1, 0, 0, 1, 0, 1, 1, 0, 0, 1, 1, 1, 0, 0, 1, 0, 0, 1, 0, 1, 0, 1,\n",
       "       0, 0, 0, 0, 1, 0, 0, 1, 0, 0, 0, 0, 1, 1, 1, 1, 0, 0, 1, 0, 0, 1,\n",
       "       1, 0, 0, 1, 0, 0, 0, 0, 0, 1, 1, 1], dtype=int64)"
      ]
     },
     "execution_count": 99,
     "metadata": {},
     "output_type": "execute_result"
    }
   ],
   "source": [
    "ypred = knn.predict(X_test)\n",
    "ypred"
   ]
  },
  {
   "cell_type": "code",
   "execution_count": 102,
   "id": "57f510aa",
   "metadata": {},
   "outputs": [
    {
     "data": {
      "text/plain": [
       "(100,)"
      ]
     },
     "execution_count": 102,
     "metadata": {},
     "output_type": "execute_result"
    }
   ],
   "source": [
    "ypred.shape"
   ]
  },
  {
   "cell_type": "code",
   "execution_count": 104,
   "id": "3f75f53a",
   "metadata": {},
   "outputs": [
    {
     "data": {
      "text/plain": [
       "(100,)"
      ]
     },
     "execution_count": 104,
     "metadata": {},
     "output_type": "execute_result"
    }
   ],
   "source": [
    "y_test.shape"
   ]
  },
  {
   "cell_type": "code",
   "execution_count": 105,
   "id": "124bc206",
   "metadata": {},
   "outputs": [],
   "source": [
    "from sklearn.metrics import confusion_matrix,accuracy_score"
   ]
  },
  {
   "cell_type": "code",
   "execution_count": 107,
   "id": "393f4ed1",
   "metadata": {},
   "outputs": [
    {
     "data": {
      "text/plain": [
       "0.93"
      ]
     },
     "execution_count": 107,
     "metadata": {},
     "output_type": "execute_result"
    }
   ],
   "source": [
    "acc = accuracy_score(y_test,ypred)\n",
    "acc"
   ]
  },
  {
   "cell_type": "code",
   "execution_count": 108,
   "id": "b2b23c30",
   "metadata": {},
   "outputs": [
    {
     "data": {
      "text/plain": [
       "array([[64,  4],\n",
       "       [ 3, 29]], dtype=int64)"
      ]
     },
     "execution_count": 108,
     "metadata": {},
     "output_type": "execute_result"
    }
   ],
   "source": [
    "confusion_matrix(y_test,ypred)"
   ]
  },
  {
   "cell_type": "code",
   "execution_count": 112,
   "id": "44bd62aa",
   "metadata": {},
   "outputs": [
    {
     "name": "stdout",
     "output_type": "stream",
     "text": [
      " for k = 1,accuracy = 0.93 ,error = 0.06999999999999995\n",
      " for k = 2,accuracy = 0.93 ,error = 0.06999999999999995\n",
      " for k = 3,accuracy = 0.92 ,error = 0.07999999999999996\n",
      " for k = 4,accuracy = 0.93 ,error = 0.06999999999999995\n",
      " for k = 5,accuracy = 0.92 ,error = 0.07999999999999996\n",
      " for k = 6,accuracy = 0.93 ,error = 0.06999999999999995\n",
      " for k = 7,accuracy = 0.93 ,error = 0.06999999999999995\n",
      " for k = 8,accuracy = 0.93 ,error = 0.06999999999999995\n",
      " for k = 9,accuracy = 0.93 ,error = 0.06999999999999995\n",
      " for k = 10,accuracy = 0.93 ,error = 0.06999999999999995\n",
      " for k = 11,accuracy = 0.93 ,error = 0.06999999999999995\n",
      " for k = 12,accuracy = 0.93 ,error = 0.06999999999999995\n",
      " for k = 13,accuracy = 0.93 ,error = 0.06999999999999995\n",
      " for k = 14,accuracy = 0.93 ,error = 0.06999999999999995\n",
      " for k = 15,accuracy = 0.93 ,error = 0.06999999999999995\n",
      " for k = 16,accuracy = 0.93 ,error = 0.06999999999999995\n",
      " for k = 17,accuracy = 0.93 ,error = 0.06999999999999995\n",
      " for k = 18,accuracy = 0.93 ,error = 0.06999999999999995\n",
      " for k = 19,accuracy = 0.93 ,error = 0.06999999999999995\n",
      " for k = 20,accuracy = 0.92 ,error = 0.07999999999999996\n",
      " for k = 21,accuracy = 0.93 ,error = 0.06999999999999995\n",
      " for k = 22,accuracy = 0.91 ,error = 0.08999999999999997\n",
      " for k = 23,accuracy = 0.93 ,error = 0.06999999999999995\n",
      " for k = 24,accuracy = 0.91 ,error = 0.08999999999999997\n",
      " for k = 25,accuracy = 0.91 ,error = 0.08999999999999997\n"
     ]
    }
   ],
   "source": [
    "#2nd Method\n",
    "acc_list=[]\n",
    "err_list=[]\n",
    "for k in range(1,26):\n",
    "    knn = KNeighborsClassifier(n_neighbors=k)\n",
    "    knn.fit(X_train,y_train)\n",
    "    ypred = knn.predict(X_test)\n",
    "    acc = accuracy_score(y_test,ypred)\n",
    "    print(f\" for k = {k},accuracy = {acc} ,error = {1-acc}\")\n",
    "    acc_list.append(acc)\n",
    "    err_list.append(1-acc)\n",
    "    \n",
    "    "
   ]
  },
  {
   "cell_type": "code",
   "execution_count": 135,
   "id": "dc5a7e07",
   "metadata": {},
   "outputs": [
    {
     "data": {
      "text/plain": [
       "<function matplotlib.pyplot.show(close=None, block=None)>"
      ]
     },
     "execution_count": 135,
     "metadata": {},
     "output_type": "execute_result"
    },
    {
     "data": {
      "image/png": "[encoded data removed]",
      "text/plain": [
       "<Figure size 432x288 with 1 Axes>"
      ]
     },
     "metadata": {
      "needs_background": "light"
     },
     "output_type": "display_data"
    }
   ],
   "source": [
    "plt.plot(range(1,26),acc_list)\n",
    "plt.title(\"K  Vs acc_list\")\n",
    "plt.xlabel(\"k\")\n",
    "plt.ylabel(\"acc_list\")\n",
    "plt.show"
   ]
  },
  {
   "cell_type": "markdown",
   "id": "5cd9a37e",
   "metadata": {},
   "source": [
    "#### We can see from the plot of K vs acc_list, the accuracy is maximum for values of k between 5 to 19. We will take the value of k as 7 as its nearer and takes less time for searching data."
   ]
  },
  {
   "cell_type": "code",
   "execution_count": 124,
   "id": "2e6f0e9f",
   "metadata": {},
   "outputs": [],
   "source": [
    " knn = KNeighborsClassifier(n_neighbors=7)"
   ]
  },
  {
   "cell_type": "code",
   "execution_count": 125,
   "id": "670229d5",
   "metadata": {},
   "outputs": [
    {
     "data": {
      "text/plain": [
       "KNeighborsClassifier(n_neighbors=7)"
      ]
     },
     "execution_count": 125,
     "metadata": {},
     "output_type": "execute_result"
    }
   ],
   "source": [
    "knn.fit(X_train,y_train)"
   ]
  },
  {
   "cell_type": "code",
   "execution_count": 126,
   "id": "f922082b",
   "metadata": {},
   "outputs": [],
   "source": [
    "ypred = knn.predict(X_test)"
   ]
  },
  {
   "cell_type": "code",
   "execution_count": 127,
   "id": "b33448e6",
   "metadata": {},
   "outputs": [
    {
     "data": {
      "text/plain": [
       "array([0, 0, 0, 0, 0, 0, 0, 1, 0, 1, 0, 0, 0, 0, 0, 1, 0, 0, 1, 0, 0, 1,\n",
       "       0, 1, 0, 1, 0, 0, 0, 0, 0, 0, 1, 0, 0, 0, 0, 0, 0, 1, 0, 0, 0, 0,\n",
       "       1, 0, 0, 1, 0, 1, 1, 0, 0, 1, 1, 1, 0, 0, 1, 0, 0, 1, 0, 1, 0, 1,\n",
       "       0, 0, 0, 0, 1, 0, 0, 1, 0, 0, 0, 0, 1, 1, 1, 1, 0, 0, 1, 0, 0, 1,\n",
       "       1, 0, 0, 1, 0, 0, 0, 0, 0, 1, 1, 1], dtype=int64)"
      ]
     },
     "execution_count": 127,
     "metadata": {},
     "output_type": "execute_result"
    }
   ],
   "source": [
    "ypred"
   ]
  },
  {
   "cell_type": "code",
   "execution_count": 128,
   "id": "f51b6909",
   "metadata": {},
   "outputs": [],
   "source": [
    "acc = accuracy_score(y_test,ypred)"
   ]
  },
  {
   "cell_type": "code",
   "execution_count": 129,
   "id": "9445d77c",
   "metadata": {},
   "outputs": [
    {
     "data": {
      "text/plain": [
       "0.93"
      ]
     },
     "execution_count": 129,
     "metadata": {},
     "output_type": "execute_result"
    }
   ],
   "source": [
    "acc"
   ]
  },
  {
   "cell_type": "code",
   "execution_count": 130,
   "id": "b133baa9",
   "metadata": {},
   "outputs": [
    {
     "data": {
      "text/plain": [
       "array([[64,  4],\n",
       "       [ 3, 29]], dtype=int64)"
      ]
     },
     "execution_count": 130,
     "metadata": {},
     "output_type": "execute_result"
    }
   ],
   "source": [
    "confusion_matrix(y_test,ypred)"
   ]
  },
  {
   "cell_type": "code",
   "execution_count": 136,
   "id": "b84c17b1",
   "metadata": {},
   "outputs": [
    {
     "data": {
      "text/plain": [
       "(100,)"
      ]
     },
     "execution_count": 136,
     "metadata": {},
     "output_type": "execute_result"
    }
   ],
   "source": [
    "y_test.shape"
   ]
  },
  {
   "cell_type": "code",
   "execution_count": 138,
   "id": "54f43fe7",
   "metadata": {},
   "outputs": [
    {
     "data": {
      "text/plain": [
       "(100,)"
      ]
     },
     "execution_count": 138,
     "metadata": {},
     "output_type": "execute_result"
    }
   ],
   "source": [
    "ypred.shape"
   ]
  },
  {
   "cell_type": "code",
   "execution_count": null,
   "id": "f4e00a4b",
   "metadata": {},
   "outputs": [],
   "source": []
  }
 ],
 "metadata": {
  "kernelspec": {
   "display_name": "Python 3 (ipykernel)",
   "language": "python",
   "name": "python3"
  },
  "language_info": {
   "codemirror_mode": {
    "name": "ipython",
    "version": 3
   },
   "file_extension": ".py",
   "mimetype": "text/x-python",
   "name": "python",
   "nbconvert_exporter": "python",
   "pygments_lexer": "ipython3",
   "version": "3.9.7"
  }
 },
 "nbformat": 4,
 "nbformat_minor": 5
}
